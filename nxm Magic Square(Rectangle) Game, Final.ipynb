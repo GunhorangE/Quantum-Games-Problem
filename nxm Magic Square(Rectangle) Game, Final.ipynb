{
 "cells": [
  {
   "cell_type": "code",
   "execution_count": 1,
   "id": "b8ca40de",
   "metadata": {},
   "outputs": [],
   "source": [
    "import numpy as np\n",
    "import matplotlib.pyplot as plt\n",
    "import seaborn as sns; sns.set()"
   ]
  },
  {
   "cell_type": "code",
   "execution_count": 2,
   "id": "02a53c46",
   "metadata": {},
   "outputs": [],
   "source": [
    "import qiskit\n",
    "from qiskit import IBMQ, QuantumCircuit, execute, transpile, assemble, Aer, ClassicalRegister, QuantumRegister\n",
    "from qiskit.result import marginal_counts\n",
    "from qiskit.visualization import plot_histogram, circuit_drawer\n",
    "from qiskit.tools.monitor import job_monitor"
   ]
  },
  {
   "cell_type": "code",
   "execution_count": 3,
   "id": "a692b56c",
   "metadata": {},
   "outputs": [],
   "source": [
    "#The quantum strategy is given by the presentation"
   ]
  },
  {
   "cell_type": "code",
   "execution_count": 4,
   "id": "cbb29b52",
   "metadata": {},
   "outputs": [],
   "source": [
    "# In this demo, as an example, the alpha and beta variables are set as below.\n",
    "# alpha 4 ~ alpha m = +1, beta 4 ~ beata n = +1, \n",
    "# alpha 1 prime = alpha 2 = +1, alpha 3 = -1\n",
    "# beta 1 prime = beta 2 = beta 3 = -1\n",
    "# For simplicity, Let's say Referee assigns only one of first 3 rows to Alice and one of first 3 columns to Bob since for the ohter rows and columns, the results are trival by the strategy.  \n",
    "# Then this specific demo is equivalent to the case of 3x3 magic square game.***\n",
    "\n",
    "# Functions used in the demo\n",
    "\n",
    "# U and V are circuit components that represent observables, i.e. the strategy.\n",
    "def U(t):\n",
    "    qc_U = QuantumCircuit(4)\n",
    "    if t == 0:\n",
    "        qc_U.h(range(2))\n",
    "    elif t == 1:\n",
    "        qc_U.swap(0, 1)\n",
    "    elif t == 2:\n",
    "        qc_U.z(range(2))\n",
    "        qc_U.cz(0,1)\n",
    "        qc_U.h(range(2))\n",
    "    return qc_U\n",
    "\n",
    "def V(t):\n",
    "    qc_V = QuantumCircuit(4)\n",
    "    if t == 0:\n",
    "        qc_V.h(2)\n",
    "    elif t == 1:\n",
    "        qc_V.swap(2, 3)\n",
    "        qc_V.h(2)\n",
    "    elif t == 2:\n",
    "        qc_V.cx(2,3)\n",
    "        qc_V.h(2)\n",
    "    return qc_V"
   ]
  },
  {
   "cell_type": "code",
   "execution_count": 5,
   "id": "8a09d05e",
   "metadata": {
    "scrolled": false
   },
   "outputs": [
    {
     "data": {
      "image/png": "[encoded data removed]",
      "text/plain": [
       "<Figure size 432x288 with 9 Axes>"
      ]
     },
     "metadata": {},
     "output_type": "display_data"
    }
   ],
   "source": [
    "#Run on a simulator\n",
    "\n",
    "# Simulation for the 3x3=9 row and column pairs\n",
    "fig, axs = plt.subplots(3, 3)\n",
    "plt.title(\"\", fontsize=12)\n",
    "\n",
    "for i in range(3):\n",
    "    for j in range(3):\n",
    "        \n",
    "        # Generate two Bell states\n",
    "        qc = QuantumCircuit(4,4)\n",
    "        qc.h(range(2))\n",
    "        qc.cx(0,2)\n",
    "        qc.cx(1,3)\n",
    "        \n",
    "        qc_ob = qc.compose(U(i)).compose(V(j))\n",
    "        \n",
    "        for l in range(4):\n",
    "            qc_ob.barrier()\n",
    "            qc_ob.measure(l,l)\n",
    "        \n",
    "        simulator = Aer.get_backend('qasm_simulator') #you can also use other simulators. ex) 'statevector_simulator', 'aer_simulator'\n",
    "        mapped_qc_ob = transpile(qc_ob, backend=simulator)\n",
    "        qobj = assemble(mapped_qc_ob, backend=simulator, shots=1)\n",
    "        job = simulator.run(qobj)\n",
    "        \n",
    "        q0_post = marginal_counts(job.result(), indices=[0]).get_counts()\n",
    "        q1_post = marginal_counts(job.result(), indices=[1]).get_counts()\n",
    "        q2_post = marginal_counts(job.result(), indices=[2]).get_counts()\n",
    "        q3_post = marginal_counts(job.result(), indices=[3]).get_counts()\n",
    "                \n",
    "        q01_posts = [list(q0_post)[0], list(q1_post)[0]]\n",
    "        q23_posts = [list(q2_post)[0], list(q3_post)[0]]\n",
    "        \n",
    "        Alice_row = []\n",
    "        Bob_column = []\n",
    "        \n",
    "        for n in range(len(q01_posts)):\n",
    "            if q01_posts[n] == '0':\n",
    "                Alice_row.append(1)\n",
    "            else: Alice_row.append(-1)\n",
    "        Alice_row.append(1 * Alice_row[0] * Alice_row[1])\n",
    "        \n",
    "        for n in range(len(q23_posts)):\n",
    "            if q23_posts[n] == '0':\n",
    "                Bob_column.append(1)\n",
    "            else: Bob_column.append(-1)\n",
    "        Bob_column.append(-1 * Bob_column[0] * Bob_column[1])\n",
    "        \n",
    "        Magic_square = np.zeros((3,3))\n",
    "        mask = np.ones((3,3))\n",
    "        \n",
    "        for k in range(3):\n",
    "            Magic_square[i,k] = Alice_row[k]\n",
    "            Magic_square[k,j] = Bob_column[k]\n",
    "            mask[i,k] = 0\n",
    "            mask[k,j] = 0\n",
    "            \n",
    "        #Visualize a numpy array in python using seaborn        \n",
    "        sns.heatmap(Magic_square, ax=axs[i,j], cmap=\"YlGn\", mask=mask, linewidths=.10, center=2, annot=True, cbar=None, xticklabels=False, yticklabels=False)     "
   ]
  },
  {
   "cell_type": "code",
   "execution_count": null,
   "id": "34412771",
   "metadata": {},
   "outputs": [],
   "source": []
  },
  {
   "cell_type": "code",
   "execution_count": 6,
   "id": "3adb577e",
   "metadata": {
    "scrolled": true
   },
   "outputs": [
    {
     "data": {
      "text/plain": [
       "<AccountProvider for IBMQ(hub='ibm-q', group='open', project='main')>"
      ]
     },
     "execution_count": 6,
     "metadata": {},
     "output_type": "execute_result"
    }
   ],
   "source": [
    "from qiskit import IBMQ\n",
    "IBMQ.enable_account('8ba2543d39b8295256079c0e8bfcfdb130e2b49a5734ecb4f094d05edb25994cbb8124761d627575f10165b1c12b2c90d25537427879ce1431eb11fad2a46ac0')"
   ]
  },
  {
   "cell_type": "code",
   "execution_count": 7,
   "id": "a1ad1b6b",
   "metadata": {},
   "outputs": [],
   "source": [
    "#IBMQ.providers()"
   ]
  },
  {
   "cell_type": "code",
   "execution_count": 8,
   "id": "f0c84333",
   "metadata": {},
   "outputs": [],
   "source": [
    "provider = IBMQ.get_provider(hub='ibm-q-education', group='ibm-quantum-1', project='quantum-hackatho')"
   ]
  },
  {
   "cell_type": "code",
   "execution_count": 2,
   "id": "cfeda964",
   "metadata": {},
   "outputs": [],
   "source": [
    "#provider.backends()"
   ]
  },
  {
   "cell_type": "code",
   "execution_count": 9,
   "id": "9398ff51",
   "metadata": {},
   "outputs": [],
   "source": [
    "backend = provider.get_backend('ibm_lagos')"
   ]
  },
  {
   "cell_type": "code",
   "execution_count": 10,
   "id": "8bf56f01",
   "metadata": {},
   "outputs": [
    {
     "name": "stderr",
     "output_type": "stream",
     "text": [
      "<ipython-input-10-f9cd6ba9ab3f>:24: DeprecationWarning: Passing a Qobj to Backend.run is deprecated and will be removed in a future release. Please pass in circuits or pulse schedules instead.\n",
      "  job = backend.run(qobj)\n"
     ]
    },
    {
     "data": {
      "image/png": "[encoded data removed]",
      "text/plain": [
       "<Figure size 432x288 with 9 Axes>"
      ]
     },
     "metadata": {},
     "output_type": "display_data"
    }
   ],
   "source": [
    "#Run on a real backend ('ibmq_')\n",
    "\n",
    "# Simulation for the 3x3=9 row and column pairs\n",
    "fig, axs = plt.subplots(3, 3)\n",
    "plt.title(\"\", fontsize=12)\n",
    "\n",
    "for i in range(3):\n",
    "    for j in range(3):\n",
    "        \n",
    "        # Generate two Bell states\n",
    "        qc = QuantumCircuit(4,4)\n",
    "        qc.h(range(2))\n",
    "        qc.cx(0,2)\n",
    "        qc.cx(1,3)\n",
    "        \n",
    "        qc_ob = qc.compose(U(i)).compose(V(j))\n",
    "        \n",
    "        for l in range(4):\n",
    "            qc_ob.barrier()\n",
    "            qc_ob.measure(l,l)\n",
    "        \n",
    "        mapped_qc_ob = transpile(qc_ob, backend=backend)\n",
    "        qobj = assemble(mapped_qc_ob, backend=backend, shots=1)\n",
    "        job = backend.run(qobj)\n",
    "        \n",
    "        q0_post = marginal_counts(job.result(), indices=[0]).get_counts()\n",
    "        q1_post = marginal_counts(job.result(), indices=[1]).get_counts()\n",
    "        q2_post = marginal_counts(job.result(), indices=[2]).get_counts()\n",
    "        q3_post = marginal_counts(job.result(), indices=[3]).get_counts()\n",
    "                \n",
    "        q01_posts = [list(q0_post)[0], list(q1_post)[0]]\n",
    "        q23_posts = [list(q2_post)[0], list(q3_post)[0]]\n",
    "        \n",
    "        Alice_row = []\n",
    "        Bob_column = []\n",
    "        \n",
    "        for n in range(len(q01_posts)):\n",
    "            if q01_posts[n] == '0':\n",
    "                Alice_row.append(1)\n",
    "            else: Alice_row.append(-1)\n",
    "        Alice_row.append(1 * Alice_row[0] * Alice_row[1])\n",
    "        \n",
    "        for n in range(len(q23_posts)):\n",
    "            if q23_posts[n] == '0':\n",
    "                Bob_column.append(1)\n",
    "            else: Bob_column.append(-1)\n",
    "        Bob_column.append(-1 * Bob_column[0] * Bob_column[1])\n",
    "        \n",
    "        Magic_square = np.zeros((3,3))\n",
    "        mask = np.ones((3,3))\n",
    "        \n",
    "        for k in range(3):\n",
    "            Magic_square[i,k] = Alice_row[k]\n",
    "            Magic_square[k,j] = Bob_column[k]\n",
    "            mask[i,k] = 0\n",
    "            mask[k,j] = 0\n",
    "            \n",
    "        #Visualize a numpy array in python using seaborn        \n",
    "        sns.heatmap(Magic_square, ax=axs[i,j], cmap=\"YlGn\", mask=mask, linewidths=.10, center=2, annot=True, cbar=None, xticklabels=False, yticklabels=False)     "
   ]
  },
  {
   "cell_type": "code",
   "execution_count": null,
   "id": "0fcfbca7",
   "metadata": {},
   "outputs": [],
   "source": []
  },
  {
   "cell_type": "code",
   "execution_count": null,
   "id": "5f53bfc5",
   "metadata": {},
   "outputs": [],
   "source": []
  }
 ],
 "metadata": {
  "kernelspec": {
   "display_name": "qiskit",
   "language": "python",
   "name": "qiskit"
  },
  "language_info": {
   "codemirror_mode": {
    "name": "ipython",
    "version": 3
   },
   "file_extension": ".py",
   "mimetype": "text/x-python",
   "name": "python",
   "nbconvert_exporter": "python",
   "pygments_lexer": "ipython3",
   "version": "3.9.5"
  }
 },
 "nbformat": 4,
 "nbformat_minor": 5
}
