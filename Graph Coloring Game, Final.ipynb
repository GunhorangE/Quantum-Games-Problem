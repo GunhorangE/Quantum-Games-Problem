{
 "cells": [
  {
   "cell_type": "code",
   "execution_count": 1,
   "id": "b8ca40de",
   "metadata": {},
   "outputs": [],
   "source": [
    "import numpy as np\n",
    "import matplotlib.pyplot as plt\n",
    "import seaborn as sns; sns.set()"
   ]
  },
  {
   "cell_type": "code",
   "execution_count": 2,
   "id": "02a53c46",
   "metadata": {},
   "outputs": [],
   "source": [
    "import qiskit\n",
    "from qiskit import IBMQ, QuantumCircuit, execute, transpile, assemble, Aer, ClassicalRegister, QuantumRegister\n",
    "from qiskit.result import marginal_counts\n",
    "from qiskit.visualization import plot_histogram, circuit_drawer\n",
    "from qiskit.tools.monitor import job_monitor"
   ]
  },
  {
   "cell_type": "code",
   "execution_count": 3,
   "id": "a692b56c",
   "metadata": {},
   "outputs": [],
   "source": [
    "#The quantum strategy is given by the presentation"
   ]
  },
  {
   "cell_type": "code",
   "execution_count": 4,
   "id": "cbb29b52",
   "metadata": {},
   "outputs": [],
   "source": [
    "# Functions used in the demo\n",
    "\n",
    "# U and V are circuit components that represent observables, i.e. the strategy.\n",
    "def U(t):\n",
    "    qc_U = QuantumCircuit(1)\n",
    "    if t == 0:\n",
    "        qc_U\n",
    "    elif t == 1:\n",
    "        qc_U.ry(4*np.pi/5, 0)\n",
    "    elif t == 2:\n",
    "        qc_U.ry(8*np.pi/5, 0)\n",
    "    elif t == 3:\n",
    "        qc_U.ry(2*np.pi/5, 0)\n",
    "    elif t == 4:\n",
    "        qc_U.ry(6*np.pi/5, 0)\n",
    "    return qc_U\n"
   ]
  },
  {
   "cell_type": "code",
   "execution_count": 5,
   "id": "8a09d05e",
   "metadata": {
    "scrolled": false
   },
   "outputs": [
    {
     "data": {
      "image/png": "[encoded data removed]",
      "text/plain": [
       "<Figure size 432x288 with 1 Axes>"
      ]
     },
     "metadata": {},
     "output_type": "display_data"
    }
   ],
   "source": [
    "#Run on a simulator\n",
    "\n",
    "#Simulation for all cases\n",
    "\n",
    "index = [[0,0], [0,1], [0,4], [1,1], [1,2], [1,0], [2,2], \n",
    "         [2,3], [2,1], [3,3], [3,4], [3,2], [4,4], [4,0], [4,3]]\n",
    "Nshots = 1024*10 #number of shots\n",
    "\n",
    "for i in range(15):\n",
    "    # Generate two Bell states\n",
    "    qc = QuantumCircuit(2,2)\n",
    "    qc.h(0)\n",
    "    qc.cx(0,1)\n",
    "    \n",
    "    qc1 = qc.compose(U(index[i][0]))\n",
    "    qc_ob = qc1.compose(U(index[i][1]), qubits=[1])\n",
    "   \n",
    "    for l in range(2):\n",
    "        qc_ob.barrier()\n",
    "        qc_ob.measure(l,l)\n",
    "        \n",
    "    simulator = Aer.get_backend('qasm_simulator') #you can also use other simulators. ex) 'statevector_simulator', 'aer_simulator'\n",
    "    mapped_qc_ob = transpile(qc_ob, backend=simulator)\n",
    "    qobj = assemble(mapped_qc_ob, backend=simulator, shots=Nshots, memory=True)\n",
    "    job = simulator.run(qobj)\n",
    "    \n",
    "    q01_post = job.result().get_memory()\n",
    "    \n",
    "    if index[i][0] == index[i][1]:\n",
    "        win_st = [k for k in q01_post if k[0] == k[1]]        \n",
    "        win_prob = len(win_st)/Nshots\n",
    "    else:\n",
    "        win_st = [k for k in q01_post if k[0] != k[1]]\n",
    "        win_prob = len(win_st)/Nshots\n",
    "\n",
    "    prob_table = np.zeros((5,5))\n",
    "    mask = np.ones((5,5))\n",
    "    \n",
    "    prob_table[index[i][0]][index[i][1]] = win_prob\n",
    "    mask[index[i][0]][index[i][1]] = 0\n",
    "            \n",
    "    #Visualize a numpy array in python using seaborn        \n",
    "    ax = sns.heatmap(prob_table, cmap=\"YlGn\", mask=mask, linewidths=.10, center=2, annot=True, cbar=None, xticklabels=False, yticklabels=False)     "
   ]
  },
  {
   "cell_type": "code",
   "execution_count": null,
   "id": "381888b2",
   "metadata": {},
   "outputs": [],
   "source": []
  },
  {
   "cell_type": "code",
   "execution_count": 6,
   "id": "3adb577e",
   "metadata": {
    "scrolled": true
   },
   "outputs": [
    {
     "data": {
      "text/plain": [
       "<AccountProvider for IBMQ(hub='ibm-q', group='open', project='main')>"
      ]
     },
     "execution_count": 6,
     "metadata": {},
     "output_type": "execute_result"
    }
   ],
   "source": [
    "from qiskit import IBMQ\n",
    "IBMQ.enable_account('8ba2543d39b8295256079c0e8bfcfdb130e2b49a5734ecb4f094d05edb25994cbb8124761d627575f10165b1c12b2c90d25537427879ce1431eb11fad2a46ac0')"
   ]
  },
  {
   "cell_type": "code",
   "execution_count": 7,
   "id": "a1ad1b6b",
   "metadata": {},
   "outputs": [],
   "source": [
    "#IBMQ.providers()"
   ]
  },
  {
   "cell_type": "code",
   "execution_count": 8,
   "id": "f0c84333",
   "metadata": {},
   "outputs": [],
   "source": [
    "provider = IBMQ.get_provider(hub='ibm-q-education', group='ibm-quantum-1', project='quantum-hackatho')"
   ]
  },
  {
   "cell_type": "code",
   "execution_count": 9,
   "id": "cfeda964",
   "metadata": {},
   "outputs": [],
   "source": [
    "#provider.backends()"
   ]
  },
  {
   "cell_type": "code",
   "execution_count": 10,
   "id": "9398ff51",
   "metadata": {},
   "outputs": [],
   "source": [
    "backend = provider.get_backend('ibm_lagos')"
   ]
  },
  {
   "cell_type": "code",
   "execution_count": 14,
   "id": "8bf56f01",
   "metadata": {},
   "outputs": [
    {
     "data": {
      "image/png": "[encoded data removed]",
      "text/plain": [
       "<Figure size 432x288 with 1 Axes>"
      ]
     },
     "metadata": {},
     "output_type": "display_data"
    }
   ],
   "source": [
    "#Run on a real backend ('ibmq_')\n",
    "\n",
    "# Simulation for all cases\n",
    "\n",
    "index = [[0,0], [0,1], [0,4], [1,1], [1,2], [1,0], [2,2], \n",
    "         [2,3], [2,1], [3,3], [3,4], [3,2], [4,4], [4,0], [4,3]]\n",
    "Nshots = 1024*5 #number of shots\n",
    "\n",
    "for i in range(15):\n",
    "    # Generate two Bell states\n",
    "    qc = QuantumCircuit(2,2)\n",
    "    qc.h(0)\n",
    "    qc.cx(0,1)\n",
    "    \n",
    "    qc1 = qc.compose(U(index[i][0]))\n",
    "    qc_ob = qc1.compose(U(index[i][1]), qubits=[1])\n",
    "   \n",
    "    for l in range(2):\n",
    "        qc_ob.barrier()\n",
    "        qc_ob.measure(l,l)\n",
    "        \n",
    "    mapped_qc_ob = transpile(qc_ob, backend=backend)\n",
    "    qobj = assemble(mapped_qc_ob, backend=backend, shots=Nshots ,memory=True)\n",
    "    job = backend.run(qobj)\n",
    "    \n",
    "    q01_post = job.result().get_memory(qc_ob)\n",
    "    \n",
    "    if index[i][0] == index[i][1]:\n",
    "        win_st = [k for k in q01_post if k[0] == k[1]]        \n",
    "        win_prob = len(win_st)/Nshots\n",
    "    else:\n",
    "        win_st = [k for k in q01_post if k[0] != k[1]]\n",
    "        win_prob = len(win_st)/Nshots\n",
    "\n",
    "    prob_table = np.zeros((5,5))\n",
    "    mask = np.ones((5,5))\n",
    "    \n",
    "    prob_table[index[i][0]][index[i][1]] = win_prob\n",
    "    mask[index[i][0]][index[i][1]] = 0\n",
    "            \n",
    "    #Visualize (plot) a numpy array in python using seaborn        \n",
    "    ax = sns.heatmap(prob_table, cmap=\"YlGn\", mask=mask, linewidths=.10, center=2, annot=True, cbar=None, xticklabels=False, yticklabels=False)     "
   ]
  },
  {
   "cell_type": "code",
   "execution_count": null,
   "id": "0fcfbca7",
   "metadata": {},
   "outputs": [],
   "source": []
  }
 ],
 "metadata": {
  "kernelspec": {
   "display_name": "qiskit",
   "language": "python",
   "name": "qiskit"
  },
  "language_info": {
   "codemirror_mode": {
    "name": "ipython",
    "version": 3
   },
   "file_extension": ".py",
   "mimetype": "text/x-python",
   "name": "python",
   "nbconvert_exporter": "python",
   "pygments_lexer": "ipython3",
   "version": "3.9.5"
  }
 },
 "nbformat": 4,
 "nbformat_minor": 5
}
