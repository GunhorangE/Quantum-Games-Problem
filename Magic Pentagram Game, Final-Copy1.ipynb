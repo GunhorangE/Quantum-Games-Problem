{
 "cells": [
  {
   "cell_type": "code",
   "execution_count": 1,
   "id": "eb2a632d",
   "metadata": {},
   "outputs": [],
   "source": [
    "import numpy as np\n",
    "import matplotlib.pyplot as plt\n",
    "import seaborn as sns; sns.set()"
   ]
  },
  {
   "cell_type": "code",
   "execution_count": 2,
   "id": "53bbe966",
   "metadata": {},
   "outputs": [],
   "source": [
    "import qiskit\n",
    "from qiskit import IBMQ, QuantumCircuit, execute, transpile, assemble, Aer, ClassicalRegister, QuantumRegister\n",
    "from qiskit.result import marginal_counts\n",
    "from qiskit.visualization import plot_histogram, circuit_drawer\n",
    "from qiskit.tools.monitor import job_monitor"
   ]
  },
  {
   "cell_type": "code",
   "execution_count": 3,
   "id": "462a989c",
   "metadata": {},
   "outputs": [],
   "source": [
    "#The quantum strategy is given by the presentation"
   ]
  },
  {
   "cell_type": "code",
   "execution_count": 4,
   "id": "b79d0698",
   "metadata": {},
   "outputs": [],
   "source": [
    "# Functions used in the demo\n",
    "\n",
    "# U1 and U2 are the circuit components that represent observables, i.e. the strategy.\n",
    "def U1(t):\n",
    "    qc_U = QuantumCircuit(6)\n",
    "    if t == 0:\n",
    "        qc_U.h(range(1,3))\n",
    "    elif t == 1:\n",
    "        qc_U\n",
    "    elif t == 2:\n",
    "        qc_U.h(range(0,2))\n",
    "    elif t == 3:\n",
    "        qc_U.h(0)\n",
    "        qc_U.h(2)\n",
    "    elif t == 4:\n",
    "        qc_U.cx(0,1)\n",
    "        qc_U.cz(0,2)\n",
    "        qc_U.cx(1,2)\n",
    "        qc_U.h(range(0,2))\n",
    "    return qc_U\n",
    "\n",
    "def U2(t):\n",
    "    qc_U = QuantumCircuit(6)\n",
    "    if t == 0:\n",
    "        qc_U.h(range(4,6))\n",
    "    elif t == 1:\n",
    "        qc_U\n",
    "    elif t == 2:\n",
    "        qc_U.h(range(3,5))\n",
    "    elif t == 3:\n",
    "        qc_U.h(3)\n",
    "        qc_U.h(5)\n",
    "    elif t == 4:\n",
    "        qc_U.cx(3,4)\n",
    "        qc_U.cz(3,5)\n",
    "        qc_U.cx(4,5)\n",
    "        qc_U.h(range(3,5))\n",
    "    return qc_U\n",
    "\n",
    "def state_to_eigv(x):\n",
    "    if x == '0':\n",
    "        eigv = 1\n",
    "    else: eigv = -1\n",
    "    return eigv"
   ]
  },
  {
   "cell_type": "code",
   "execution_count": null,
   "id": "487ecd17",
   "metadata": {},
   "outputs": [],
   "source": []
  },
  {
   "cell_type": "code",
   "execution_count": 5,
   "id": "3a0e7ab0",
   "metadata": {
    "scrolled": true
   },
   "outputs": [
    {
     "data": {
      "image/png": "[encoded data removed]",
      "text/plain": [
       "<Figure size 432x288 with 20 Axes>"
      ]
     },
     "metadata": {},
     "output_type": "display_data"
    }
   ],
   "source": [
    "#Run on a simulator\n",
    "\n",
    "# Simulation for all the 5(hyperedges) x 4(vertices) = 20 cases\n",
    "fig, axs = plt.subplots(5, 4)\n",
    "plt.title(\"\", fontsize=12)\n",
    "\n",
    "jk_index_table = np.array([[10,5,7,2],[10,9,8,1],[6,5,8,3],[6,9,7,4],[3,2,1,4]])\n",
    " \n",
    "for j in range(5):\n",
    "    for v in range(4):\n",
    "        \n",
    "        dict_ptgrm_returns = [{7:22, 2:22, 10:22, 5:22}, {1:22, 10:22, 8:22, 9:22},\n",
    "                      {5:22, 8:22, 6:22, 3:22}, {9:22, 6:22, 4:22, 7:22},\n",
    "                      {3:22, 4:22, 2:22, 1:22}]\n",
    "        \n",
    "        # Generate two Bell states\n",
    "        qc = QuantumCircuit(6,6)\n",
    "        qc.h(range(3))\n",
    "        qc.cx(0,3)\n",
    "        qc.cx(1,4)\n",
    "        qc.cx(2,5)\n",
    "        \n",
    "        qc_ob = qc.compose(U1(j)).compose(U2(j))\n",
    "        \n",
    "        for l in range(6):\n",
    "            qc_ob.barrier()\n",
    "            qc_ob.measure(l,l)\n",
    "        \n",
    "        simulator = Aer.get_backend('qasm_simulator') #you can also use other simulators. ex) 'statevector_simulator', 'aer_simulator'\n",
    "        mapped_qc_ob = transpile(qc_ob, backend=simulator)\n",
    "        qobj = assemble(mapped_qc_ob, backend=simulator, shots=1)\n",
    "        job = simulator.run(qobj)\n",
    "        \n",
    "        q0_post = marginal_counts(job.result(), indices=[0]).get_counts()\n",
    "        q1_post = marginal_counts(job.result(), indices=[1]).get_counts()\n",
    "        q2_post = marginal_counts(job.result(), indices=[2]).get_counts()\n",
    "        q3_post = marginal_counts(job.result(), indices=[3]).get_counts()\n",
    "        q4_post = marginal_counts(job.result(), indices=[4]).get_counts()\n",
    "        q5_post = marginal_counts(job.result(), indices=[5]).get_counts()\n",
    "                \n",
    "        a1 = state_to_eigv(list(q0_post)[0])\n",
    "        a2 = state_to_eigv(list(q1_post)[0])\n",
    "        a3 = state_to_eigv(list(q2_post)[0])\n",
    "        \n",
    "        if j == 4:\n",
    "            a4 = -1*a1*a2*a3\n",
    "        else: a4 = 1*a1*a2*a3\n",
    "        \n",
    "        b1 = state_to_eigv(list(q3_post)[0])\n",
    "        b2 = state_to_eigv(list(q4_post)[0])\n",
    "        b3 = state_to_eigv(list(q5_post)[0])\n",
    "        \n",
    "        if j == 4:\n",
    "            b4 = -1*a1*a2*a3\n",
    "        else: b4 = 1*a1*a2*a3\n",
    "        \n",
    "        a = [a1,a2,a3,a4]\n",
    "        b = [b1,b2,b3,b4]\n",
    "        \n",
    "        Alice_Bob_return = np.array([[0,0,0,0],[0,0,0,0],[0,0,0,0]])\n",
    "        edge = dict_ptgrm_returns[j].copy()\n",
    "        \n",
    "        for i in range(4):\n",
    "            dict_ptgrm_returns[j][jk_index_table[j,i]] = a[i]\n",
    "        \n",
    "        edge[jk_index_table[j,v]] = b[v]\n",
    "        \n",
    "        v0 = dict_ptgrm_returns[j].keys()\n",
    "        v1 = dict_ptgrm_returns[j].values()\n",
    "        v2 = edge.values()\n",
    "        \n",
    "        Alice_Bob_return[0] = list(v0)\n",
    "        Alice_Bob_return[1] = list(v1)    \n",
    "        Alice_Bob_return[2] = list(v2)\n",
    "        \n",
    "        mask = np.zeros((3,4))\n",
    "        \n",
    "        for l in range(4):\n",
    "            if Alice_Bob_return[2][l] == 22:\n",
    "                mask[2][l] = 1\n",
    "            \n",
    "        #Visualize a numpy array in python using seaborn        \n",
    "        sns.heatmap(Alice_Bob_return, ax=axs[j,v], cmap=\"YlGn\", mask=mask, linewidths=.30, center=10, annot=True, cbar=None, xticklabels=False, yticklabels=False)     "
   ]
  },
  {
   "cell_type": "code",
   "execution_count": null,
   "id": "64961407",
   "metadata": {},
   "outputs": [],
   "source": []
  },
  {
   "cell_type": "code",
   "execution_count": 6,
   "id": "a032ec02",
   "metadata": {},
   "outputs": [
    {
     "data": {
      "text/plain": [
       "<AccountProvider for IBMQ(hub='ibm-q', group='open', project='main')>"
      ]
     },
     "execution_count": 6,
     "metadata": {},
     "output_type": "execute_result"
    }
   ],
   "source": [
    "from qiskit import IBMQ\n",
    "IBMQ.enable_account('8ba2543d39b8295256079c0e8bfcfdb130e2b49a5734ecb4f094d05edb25994cbb8124761d627575f10165b1c12b2c90d25537427879ce1431eb11fad2a46ac0')"
   ]
  },
  {
   "cell_type": "code",
   "execution_count": 7,
   "id": "1b0307f5",
   "metadata": {},
   "outputs": [],
   "source": [
    "#IBMQ.providers()"
   ]
  },
  {
   "cell_type": "code",
   "execution_count": 8,
   "id": "334a216e",
   "metadata": {},
   "outputs": [],
   "source": [
    "provider = IBMQ.get_provider(hub='ibm-q-education', group='ibm-quantum-1', project='quantum-hackatho')"
   ]
  },
  {
   "cell_type": "code",
   "execution_count": null,
   "id": "cad2f071",
   "metadata": {},
   "outputs": [],
   "source": [
    "#provider.backends()"
   ]
  },
  {
   "cell_type": "code",
   "execution_count": 10,
   "id": "62cd8e02",
   "metadata": {},
   "outputs": [],
   "source": [
    "backend = provider.get_backend('ibm_lagos')"
   ]
  },
  {
   "cell_type": "code",
   "execution_count": 12,
   "id": "9089f95b",
   "metadata": {},
   "outputs": [
    {
     "data": {
      "image/png": "[encoded data removed]",
      "text/plain": [
       "<Figure size 432x288 with 20 Axes>"
      ]
     },
     "metadata": {},
     "output_type": "display_data"
    }
   ],
   "source": [
    "#Run on a real backend ('ibm_')\n",
    "\n",
    "# Simulation for all the 5(hyperedges) x 4(vertices) = 20 cases\n",
    "fig, axs = plt.subplots(5, 4)\n",
    "plt.title(\"\", fontsize=12)\n",
    "\n",
    "jk_index_table = np.array([[10,5,7,2],[10,9,8,1],[6,5,8,3],[6,9,7,4],[3,2,1,4]])\n",
    " \n",
    "for j in range(5):\n",
    "    for v in range(4):\n",
    "        \n",
    "        dict_ptgrm_returns = [{7:22, 2:22, 10:22, 5:22}, {1:22, 10:22, 8:22, 9:22},\n",
    "                      {5:22, 8:22, 6:22, 3:22}, {9:22, 6:22, 4:22, 7:22},\n",
    "                      {3:22, 4:22, 2:22, 1:22}]\n",
    "        \n",
    "        # Generate two Bell states\n",
    "        qc = QuantumCircuit(6,6)\n",
    "        qc.h(range(3))\n",
    "        qc.cx(0,3)\n",
    "        qc.cx(1,4)\n",
    "        qc.cx(2,5)\n",
    "        \n",
    "        qc_ob = qc.compose(U1(j)).compose(U2(j))\n",
    "        \n",
    "        for l in range(6):\n",
    "            qc_ob.barrier()\n",
    "            qc_ob.measure(l,l)\n",
    "        \n",
    "        mapped_qc_ob = transpile(qc_ob, backend=backend)\n",
    "        qobj = assemble(mapped_qc_ob, backend=backend, shots=1)\n",
    "        job = backend.run(qobj)\n",
    "        \n",
    "        q0_post = marginal_counts(job.result(), indices=[0]).get_counts()\n",
    "        q1_post = marginal_counts(job.result(), indices=[1]).get_counts()\n",
    "        q2_post = marginal_counts(job.result(), indices=[2]).get_counts()\n",
    "        q3_post = marginal_counts(job.result(), indices=[3]).get_counts()\n",
    "        q4_post = marginal_counts(job.result(), indices=[4]).get_counts()\n",
    "        q5_post = marginal_counts(job.result(), indices=[5]).get_counts()\n",
    "                \n",
    "        a1 = state_to_eigv(list(q0_post)[0])\n",
    "        a2 = state_to_eigv(list(q1_post)[0])\n",
    "        a3 = state_to_eigv(list(q2_post)[0])\n",
    "        \n",
    "        if j == 4:\n",
    "            a4 = -1*a1*a2*a3\n",
    "        else: a4 = 1*a1*a2*a3\n",
    "        \n",
    "        b1 = state_to_eigv(list(q3_post)[0])\n",
    "        b2 = state_to_eigv(list(q4_post)[0])\n",
    "        b3 = state_to_eigv(list(q5_post)[0])\n",
    "        \n",
    "        if j == 4:\n",
    "            b4 = -1*a1*a2*a3\n",
    "        else: b4 = 1*a1*a2*a3\n",
    "        \n",
    "        a = [a1,a2,a3,a4]\n",
    "        b = [b1,b2,b3,b4]\n",
    "        \n",
    "        Alice_Bob_return = np.array([[0,0,0,0],[0,0,0,0],[0,0,0,0]])\n",
    "        edge = dict_ptgrm_returns[j].copy()\n",
    "        \n",
    "        for i in range(4):\n",
    "            dict_ptgrm_returns[j][jk_index_table[j,i]] = a[i]\n",
    "        \n",
    "        edge[jk_index_table[j,v]] = b[v]\n",
    "        \n",
    "        v0 = dict_ptgrm_returns[j].keys()\n",
    "        v1 = dict_ptgrm_returns[j].values()\n",
    "        v2 = edge.values()\n",
    "        \n",
    "        Alice_Bob_return[0] = list(v0)\n",
    "        Alice_Bob_return[1] = list(v1)    \n",
    "        Alice_Bob_return[2] = list(v2)\n",
    "        \n",
    "        mask = np.zeros((3,4))\n",
    "        \n",
    "        for l in range(4):\n",
    "            if Alice_Bob_return[2][l] == 22:\n",
    "                mask[2][l] = 1\n",
    "            \n",
    "        #Visualize a numpy array in python using seaborn        \n",
    "        sns.heatmap(Alice_Bob_return, ax=axs[j,v], cmap=\"YlGn\", mask=mask, linewidths=.30, center=10, annot=True, cbar=None, xticklabels=False, yticklabels=False)     "
   ]
  },
  {
   "cell_type": "code",
   "execution_count": null,
   "id": "ce2a6eb8",
   "metadata": {},
   "outputs": [],
   "source": []
  }
 ],
 "metadata": {
  "kernelspec": {
   "display_name": "Python 3",
   "language": "python",
   "name": "python3"
  },
  "language_info": {
   "codemirror_mode": {
    "name": "ipython",
    "version": 3
   },
   "file_extension": ".py",
   "mimetype": "text/x-python",
   "name": "python",
   "nbconvert_exporter": "python",
   "pygments_lexer": "ipython3",
   "version": "3.9.5"
  }
 },
 "nbformat": 4,
 "nbformat_minor": 5
}
